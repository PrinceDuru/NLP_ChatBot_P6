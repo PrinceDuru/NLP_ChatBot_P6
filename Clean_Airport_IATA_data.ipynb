{
 "cells": [
  {
   "cell_type": "markdown",
   "metadata": {},
   "source": [
    "# CLEAN UP DATA FOR AIRPORT CODES"
   ]
  },
  {
   "cell_type": "code",
   "execution_count": 1,
   "metadata": {},
   "outputs": [],
   "source": [
    "import pandas as pd\n",
    "import numpy as np"
   ]
  },
  {
   "cell_type": "code",
   "execution_count": 29,
   "metadata": {},
   "outputs": [],
   "source": [
    "# Read csv into dataframe\n",
    "\n",
    "data = pd.read_csv('airports.csv')"
   ]
  },
  {
   "cell_type": "code",
   "execution_count": 33,
   "metadata": {},
   "outputs": [
    {
     "data": {
      "text/plain": [
       "(7698, 14)"
      ]
     },
     "execution_count": 33,
     "metadata": {},
     "output_type": "execute_result"
    }
   ],
   "source": [
    "data.shape"
   ]
  },
  {
   "cell_type": "code",
   "execution_count": 40,
   "metadata": {},
   "outputs": [
    {
     "data": {
      "text/html": [
       "<div>\n",
       "<style scoped>\n",
       "    .dataframe tbody tr th:only-of-type {\n",
       "        vertical-align: middle;\n",
       "    }\n",
       "\n",
       "    .dataframe tbody tr th {\n",
       "        vertical-align: top;\n",
       "    }\n",
       "\n",
       "    .dataframe thead th {\n",
       "        text-align: right;\n",
       "    }\n",
       "</style>\n",
       "<table border=\"1\" class=\"dataframe\">\n",
       "  <thead>\n",
       "    <tr style=\"text-align: right;\">\n",
       "      <th></th>\n",
       "      <th>AirportID</th>\n",
       "      <th>Name</th>\n",
       "      <th>City</th>\n",
       "      <th>Country</th>\n",
       "      <th>IATA</th>\n",
       "      <th>ICAO</th>\n",
       "      <th>Latitude</th>\n",
       "      <th>Longitude</th>\n",
       "      <th>Altitude</th>\n",
       "      <th>Timezone</th>\n",
       "      <th>DST</th>\n",
       "      <th>Tz_database_time_zone</th>\n",
       "      <th>Type</th>\n",
       "      <th>Source</th>\n",
       "    </tr>\n",
       "  </thead>\n",
       "  <tbody>\n",
       "    <tr>\n",
       "      <th>395</th>\n",
       "      <td>399</td>\n",
       "      <td>Braunschweig-Wolfsburg Airport</td>\n",
       "      <td>Braunschweig</td>\n",
       "      <td>Germany</td>\n",
       "      <td>BWE</td>\n",
       "      <td>EDVE</td>\n",
       "      <td>52.319199</td>\n",
       "      <td>10.556100</td>\n",
       "      <td>295</td>\n",
       "      <td>1</td>\n",
       "      <td>E</td>\n",
       "      <td>Europe/Berlin</td>\n",
       "      <td>airport</td>\n",
       "      <td>OurAirports</td>\n",
       "    </tr>\n",
       "    <tr>\n",
       "      <th>7247</th>\n",
       "      <td>12010</td>\n",
       "      <td>Rtishchevo Air Base</td>\n",
       "      <td>Rtishchevo</td>\n",
       "      <td>Russia</td>\n",
       "      <td>\\N</td>\n",
       "      <td>XWPR</td>\n",
       "      <td>52.297317</td>\n",
       "      <td>43.724100</td>\n",
       "      <td>673</td>\n",
       "      <td>\\N</td>\n",
       "      <td>\\N</td>\n",
       "      <td>\\N</td>\n",
       "      <td>airport</td>\n",
       "      <td>OurAirports</td>\n",
       "    </tr>\n",
       "    <tr>\n",
       "      <th>3774</th>\n",
       "      <td>3985</td>\n",
       "      <td>Al Badie Airport</td>\n",
       "      <td>Al Badie</td>\n",
       "      <td>Yemen</td>\n",
       "      <td>\\N</td>\n",
       "      <td>OYBA</td>\n",
       "      <td>18.719299</td>\n",
       "      <td>50.836899</td>\n",
       "      <td>908</td>\n",
       "      <td>3</td>\n",
       "      <td>U</td>\n",
       "      <td>Asia/Aden</td>\n",
       "      <td>airport</td>\n",
       "      <td>OurAirports</td>\n",
       "    </tr>\n",
       "    <tr>\n",
       "      <th>3547</th>\n",
       "      <td>3747</td>\n",
       "      <td>Chicago Midway International Airport</td>\n",
       "      <td>Chicago</td>\n",
       "      <td>United States</td>\n",
       "      <td>MDW</td>\n",
       "      <td>KMDW</td>\n",
       "      <td>41.785999</td>\n",
       "      <td>-87.752403</td>\n",
       "      <td>620</td>\n",
       "      <td>-6</td>\n",
       "      <td>A</td>\n",
       "      <td>America/Chicago</td>\n",
       "      <td>airport</td>\n",
       "      <td>OurAirports</td>\n",
       "    </tr>\n",
       "    <tr>\n",
       "      <th>1170</th>\n",
       "      <td>1201</td>\n",
       "      <td>Osijek-Čepin Airfield</td>\n",
       "      <td>Cepin</td>\n",
       "      <td>Croatia</td>\n",
       "      <td>\\N</td>\n",
       "      <td>LDOC</td>\n",
       "      <td>45.542778</td>\n",
       "      <td>18.631944</td>\n",
       "      <td>299</td>\n",
       "      <td>1</td>\n",
       "      <td>E</td>\n",
       "      <td>Europe/Zagreb</td>\n",
       "      <td>airport</td>\n",
       "      <td>OurAirports</td>\n",
       "    </tr>\n",
       "  </tbody>\n",
       "</table>\n",
       "</div>"
      ],
      "text/plain": [
       "      AirportID                                  Name          City  \\\n",
       "395         399        Braunschweig-Wolfsburg Airport  Braunschweig   \n",
       "7247      12010                   Rtishchevo Air Base    Rtishchevo   \n",
       "3774       3985                      Al Badie Airport      Al Badie   \n",
       "3547       3747  Chicago Midway International Airport       Chicago   \n",
       "1170       1201                 Osijek-Čepin Airfield         Cepin   \n",
       "\n",
       "            Country IATA  ICAO   Latitude  Longitude  Altitude Timezone DST  \\\n",
       "395         Germany  BWE  EDVE  52.319199  10.556100       295        1   E   \n",
       "7247         Russia   \\N  XWPR  52.297317  43.724100       673       \\N  \\N   \n",
       "3774          Yemen   \\N  OYBA  18.719299  50.836899       908        3   U   \n",
       "3547  United States  MDW  KMDW  41.785999 -87.752403       620       -6   A   \n",
       "1170        Croatia   \\N  LDOC  45.542778  18.631944       299        1   E   \n",
       "\n",
       "     Tz_database_time_zone     Type       Source  \n",
       "395          Europe/Berlin  airport  OurAirports  \n",
       "7247                    \\N  airport  OurAirports  \n",
       "3774             Asia/Aden  airport  OurAirports  \n",
       "3547       America/Chicago  airport  OurAirports  \n",
       "1170         Europe/Zagreb  airport  OurAirports  "
      ]
     },
     "execution_count": 40,
     "metadata": {},
     "output_type": "execute_result"
    }
   ],
   "source": [
    "data.sample(5)"
   ]
  },
  {
   "cell_type": "code",
   "execution_count": 36,
   "metadata": {},
   "outputs": [
    {
     "data": {
      "text/plain": [
       "AirportID                 0\n",
       "Name                      0\n",
       "City                     49\n",
       "Country                   0\n",
       "IATA                      0\n",
       "ICAO                      0\n",
       "Latitude                  0\n",
       "Longitude                 0\n",
       "Altitude                  0\n",
       "Timezone                  0\n",
       "DST                       0\n",
       "Tz_database_time_zone     0\n",
       "Type                      0\n",
       "Source                    0\n",
       "dtype: int64"
      ]
     },
     "execution_count": 36,
     "metadata": {},
     "output_type": "execute_result"
    }
   ],
   "source": [
    "data.isnull().sum()"
   ]
  },
  {
   "cell_type": "markdown",
   "metadata": {},
   "source": [
    "* 49 records of City column are null. IATA column has '\\N' values in a number of rows\n",
    "* Let's clean up"
   ]
  },
  {
   "cell_type": "code",
   "execution_count": 44,
   "metadata": {},
   "outputs": [],
   "source": [
    "clean_airport_codes = data.dropna()"
   ]
  },
  {
   "cell_type": "code",
   "execution_count": 45,
   "metadata": {},
   "outputs": [
    {
     "data": {
      "text/plain": [
       "(7649, 14)"
      ]
     },
     "execution_count": 45,
     "metadata": {},
     "output_type": "execute_result"
    }
   ],
   "source": [
    "clean_airport_codes.shape"
   ]
  },
  {
   "cell_type": "code",
   "execution_count": 47,
   "metadata": {},
   "outputs": [
    {
     "data": {
      "text/plain": [
       "AirportID                0\n",
       "Name                     0\n",
       "City                     0\n",
       "Country                  0\n",
       "IATA                     0\n",
       "ICAO                     0\n",
       "Latitude                 0\n",
       "Longitude                0\n",
       "Altitude                 0\n",
       "Timezone                 0\n",
       "DST                      0\n",
       "Tz_database_time_zone    0\n",
       "Type                     0\n",
       "Source                   0\n",
       "dtype: int64"
      ]
     },
     "execution_count": 47,
     "metadata": {},
     "output_type": "execute_result"
    }
   ],
   "source": [
    "# The null values are gone\n",
    "\n",
    "clean_airport_codes.isna().sum()"
   ]
  },
  {
   "cell_type": "code",
   "execution_count": 60,
   "metadata": {},
   "outputs": [],
   "source": [
    "# Let's take care of the \"\\N\" values\n",
    "\n",
    "clean_airport_codes = clean_airport_codes[clean_airport_codes['IATA'] !='\\\\N']"
   ]
  },
  {
   "cell_type": "code",
   "execution_count": 61,
   "metadata": {},
   "outputs": [
    {
     "data": {
      "text/plain": [
       "(6033, 14)"
      ]
     },
     "execution_count": 61,
     "metadata": {},
     "output_type": "execute_result"
    }
   ],
   "source": [
    "clean_airport_codes.shape"
   ]
  },
  {
   "cell_type": "code",
   "execution_count": 68,
   "metadata": {},
   "outputs": [],
   "source": [
    "# We actually need a few columns - Name, City, Country, and IATA\n",
    "# Let's retain these columns and discard the rest\n",
    "\n",
    "clean_airport_codes = clean_airport_codes[['Name','City','Country','IATA']]"
   ]
  },
  {
   "cell_type": "code",
   "execution_count": 71,
   "metadata": {},
   "outputs": [],
   "source": [
    "# Let's stay with only international airports\n",
    "\n",
    "\n",
    "clean_airport_codes = clean_airport_codes[clean_airport_codes['Name'].str.contains('International')]"
   ]
  },
  {
   "cell_type": "code",
   "execution_count": 72,
   "metadata": {},
   "outputs": [
    {
     "data": {
      "text/plain": [
       "(886, 4)"
      ]
     },
     "execution_count": 72,
     "metadata": {},
     "output_type": "execute_result"
    }
   ],
   "source": [
    "#Check shape of final data\n",
    "\n",
    "clean_airport_codes.shape"
   ]
  },
  {
   "cell_type": "code",
   "execution_count": 74,
   "metadata": {},
   "outputs": [
    {
     "data": {
      "text/plain": [
       "Name       0\n",
       "City       0\n",
       "Country    0\n",
       "IATA       0\n",
       "dtype: int64"
      ]
     },
     "execution_count": 74,
     "metadata": {},
     "output_type": "execute_result"
    }
   ],
   "source": [
    "# reconfirm no null values\n",
    "\n",
    "clean_airport_codes.isnull().sum()"
   ]
  },
  {
   "cell_type": "code",
   "execution_count": 76,
   "metadata": {},
   "outputs": [
    {
     "data": {
      "text/plain": [
       "0"
      ]
     },
     "execution_count": 76,
     "metadata": {},
     "output_type": "execute_result"
    }
   ],
   "source": [
    "#Confirm there're no duplicates\n",
    "\n",
    "clean_airport_codes.duplicated().sum()"
   ]
  },
  {
   "cell_type": "code",
   "execution_count": 77,
   "metadata": {},
   "outputs": [],
   "source": [
    "# save clean data\n",
    "\n",
    "clean_airport_codes.to_csv('clean_airport_codes.csv', index=False)"
   ]
  }
 ],
 "metadata": {
  "kernelspec": {
   "display_name": "Python 3",
   "language": "python",
   "name": "python3"
  },
  "language_info": {
   "codemirror_mode": {
    "name": "ipython",
    "version": 3
   },
   "file_extension": ".py",
   "mimetype": "text/x-python",
   "name": "python",
   "nbconvert_exporter": "python",
   "pygments_lexer": "ipython3",
   "version": "3.6.9"
  }
 },
 "nbformat": 4,
 "nbformat_minor": 4
}
